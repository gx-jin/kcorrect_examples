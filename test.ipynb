{
 "cells": [
  {
   "cell_type": "code",
   "execution_count": 1,
   "id": "8ef7939f",
   "metadata": {},
   "outputs": [],
   "source": [
    "import kcorrect.template\n",
    "import kcorrect.kcorrect"
   ]
  },
  {
   "cell_type": "code",
   "execution_count": 2,
   "id": "bd3cb323",
   "metadata": {},
   "outputs": [
    {
     "name": "stderr",
     "output_type": "stream",
     "text": [
      "d:\\Software\\miniforge3\\envs\\test\\Lib\\site-packages\\astropy\\io\\fits\\hdu\\hdulist.py:1451: UserWarning: Memory map object was closed but appears to still be referenced. Further access will result in undefined behavior (possibly including segmentation faults).\n",
      "  self._flush_resize()\n"
     ]
    },
    {
     "ename": "AttributeError",
     "evalue": "module 'numpy' has no attribute 'compat'",
     "output_type": "error",
     "traceback": [
      "\u001b[31m---------------------------------------------------------------------------\u001b[39m",
      "\u001b[31mAttributeError\u001b[39m                            Traceback (most recent call last)",
      "\u001b[36mCell\u001b[39m\u001b[36m \u001b[39m\u001b[32mIn[2]\u001b[39m\u001b[32m, line 12\u001b[39m\n\u001b[32m      5\u001b[39m templates = kcorrect.template.Template(filename=\u001b[33m'\u001b[39m\u001b[33mdata/templates_broad.fits\u001b[39m\u001b[33m'\u001b[39m)\n\u001b[32m      7\u001b[39m kc = kcorrect.kcorrect.Kcorrect(responses=responses,\n\u001b[32m      8\u001b[39m                                 templates=templates,\n\u001b[32m      9\u001b[39m                                 redshift_range=[\u001b[32m0.03\u001b[39m, \u001b[32m0.031\u001b[39m],\n\u001b[32m     10\u001b[39m                                 nredshift=\u001b[32m2\u001b[39m)\n\u001b[32m---> \u001b[39m\u001b[32m12\u001b[39m \u001b[43mkc\u001b[49m\u001b[43m.\u001b[49m\u001b[43mtofits\u001b[49m\u001b[43m(\u001b[49m\u001b[33;43m'\u001b[39;49m\u001b[33;43mdata/kcorrect_broad_test.fits\u001b[39;49m\u001b[33;43m'\u001b[39;49m\u001b[43m)\u001b[49m\n",
      "\u001b[36mFile \u001b[39m\u001b[32md:\\Software\\miniforge3\\envs\\test\\Lib\\site-packages\\kcorrect\\kcorrect.py:743\u001b[39m, in \u001b[36mKcorrect.tofits\u001b[39m\u001b[34m(self, filename)\u001b[39m\n\u001b[32m    740\u001b[39m hdu = fits.ImageHDU(\u001b[38;5;28mself\u001b[39m.redshifts, name=\u001b[33m'\u001b[39m\u001b[33mREDSHIFTS\u001b[39m\u001b[33m'\u001b[39m)\n\u001b[32m    741\u001b[39m hdul.append(hdu)\n\u001b[32m--> \u001b[39m\u001b[32m743\u001b[39m responses_dtype = np.dtype([(\u001b[33m'\u001b[39m\u001b[33mresponses\u001b[39m\u001b[33m'\u001b[39m, \u001b[43mnp\u001b[49m\u001b[43m.\u001b[49m\u001b[43mcompat\u001b[49m.unicode, \u001b[32m200\u001b[39m)])\n\u001b[32m    744\u001b[39m responses = np.zeros(\u001b[38;5;28mlen\u001b[39m(\u001b[38;5;28mself\u001b[39m.responses), dtype=responses_dtype)\n\u001b[32m    745\u001b[39m responses[\u001b[33m'\u001b[39m\u001b[33mresponses\u001b[39m\u001b[33m'\u001b[39m] = np.array(\u001b[38;5;28mself\u001b[39m.responses)\n",
      "\u001b[36mFile \u001b[39m\u001b[32md:\\Software\\miniforge3\\envs\\test\\Lib\\site-packages\\numpy\\__init__.py:795\u001b[39m, in \u001b[36m__getattr__\u001b[39m\u001b[34m(attr)\u001b[39m\n\u001b[32m    792\u001b[39m     \u001b[38;5;28;01mimport\u001b[39;00m\u001b[38;5;250m \u001b[39m\u001b[34;01mnumpy\u001b[39;00m\u001b[34;01m.\u001b[39;00m\u001b[34;01mchar\u001b[39;00m\u001b[38;5;250m \u001b[39m\u001b[38;5;28;01mas\u001b[39;00m\u001b[38;5;250m \u001b[39m\u001b[34;01mchar\u001b[39;00m\n\u001b[32m    793\u001b[39m     \u001b[38;5;28;01mreturn\u001b[39;00m char.chararray\n\u001b[32m--> \u001b[39m\u001b[32m795\u001b[39m \u001b[38;5;28;01mraise\u001b[39;00m \u001b[38;5;167;01mAttributeError\u001b[39;00m(\u001b[33mf\u001b[39m\u001b[33m\"\u001b[39m\u001b[33mmodule \u001b[39m\u001b[38;5;132;01m{\u001b[39;00m\u001b[34m__name__\u001b[39m\u001b[38;5;132;01m!r}\u001b[39;00m\u001b[33m has no attribute \u001b[39m\u001b[38;5;132;01m{\u001b[39;00mattr\u001b[38;5;132;01m!r}\u001b[39;00m\u001b[33m\"\u001b[39m)\n",
      "\u001b[31mAttributeError\u001b[39m: module 'numpy' has no attribute 'compat'"
     ]
    }
   ],
   "source": [
    "responses = ['galex_FUV', 'galex_NUV',\n",
    "             'decam_g', 'decam_r', 'decam_z',\n",
    "             'wise_w1', 'wise_w2', 'wise_w3', 'wise_w4']\n",
    "\n",
    "templates = kcorrect.template.Template(filename='data/templates_broad.fits')\n",
    "\n",
    "kc = kcorrect.kcorrect.Kcorrect(responses=responses,\n",
    "                                templates=templates,\n",
    "                                redshift_range=[0.03, 0.031],\n",
    "                                nredshift=2)\n",
    "\n",
    "kc.tofits('data/kcorrect_broad_test.fits')"
   ]
  },
  {
   "cell_type": "code",
   "execution_count": 3,
   "id": "442d76fb",
   "metadata": {},
   "outputs": [
    {
     "name": "stdout",
     "output_type": "stream",
     "text": [
      "2.3.1\n"
     ]
    }
   ],
   "source": [
    "import numpy as np\n",
    "print(np.__version__)"
   ]
  }
 ],
 "metadata": {
  "kernelspec": {
   "display_name": "test",
   "language": "python",
   "name": "python3"
  },
  "language_info": {
   "codemirror_mode": {
    "name": "ipython",
    "version": 3
   },
   "file_extension": ".py",
   "mimetype": "text/x-python",
   "name": "python",
   "nbconvert_exporter": "python",
   "pygments_lexer": "ipython3",
   "version": "3.13.5"
  }
 },
 "nbformat": 4,
 "nbformat_minor": 5
}
