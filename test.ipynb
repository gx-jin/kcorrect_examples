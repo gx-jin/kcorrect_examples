{
 "cells": [
  {
   "cell_type": "code",
   "execution_count": 1,
   "id": "8ef7939f",
   "metadata": {},
   "outputs": [],
   "source": [
    "import kcorrect.template\n",
    "import kcorrect.kcorrect"
   ]
  },
  {
   "cell_type": "code",
   "execution_count": 5,
   "id": "a133be83",
   "metadata": {},
   "outputs": [
    {
     "ename": "KeyboardInterrupt",
     "evalue": "",
     "output_type": "error",
     "traceback": [
      "\u001b[1;31m---------------------------------------------------------------------------\u001b[0m",
      "\u001b[1;31mKeyboardInterrupt\u001b[0m                         Traceback (most recent call last)",
      "Cell \u001b[1;32mIn[5], line 17\u001b[0m\n\u001b[0;32m     13\u001b[0m kc \u001b[38;5;241m=\u001b[39m kcorrect\u001b[38;5;241m.\u001b[39mkcorrect\u001b[38;5;241m.\u001b[39mKcorrect(filename\u001b[38;5;241m=\u001b[39m\u001b[38;5;124m'\u001b[39m\u001b[38;5;124mdata/kcorrect_broad_0115.fits\u001b[39m\u001b[38;5;124m'\u001b[39m)\n\u001b[0;32m     15\u001b[0m \u001b[38;5;66;03m# For this case, coeffs is large! [1, 57636]\u001b[39;00m\n\u001b[0;32m     16\u001b[0m \u001b[38;5;66;03m# If you look carefully at this case, only 6 of the coefficients are non-zero!\u001b[39;00m\n\u001b[1;32m---> 17\u001b[0m coeffs \u001b[38;5;241m=\u001b[39m \u001b[43mkc\u001b[49m\u001b[38;5;241;43m.\u001b[39;49m\u001b[43mfit_coeffs\u001b[49m\u001b[43m(\u001b[49m\u001b[43mredshift\u001b[49m\u001b[38;5;241;43m=\u001b[39;49m\u001b[43mredshift\u001b[49m\u001b[43m,\u001b[49m\u001b[43m \u001b[49m\u001b[43mmaggies\u001b[49m\u001b[38;5;241;43m=\u001b[39;49m\u001b[43mmaggies\u001b[49m\u001b[43m,\u001b[49m\u001b[43m \u001b[49m\u001b[43mivar\u001b[49m\u001b[38;5;241;43m=\u001b[39;49m\u001b[43mivar\u001b[49m\u001b[43m)\u001b[49m\n\u001b[0;32m     19\u001b[0m \u001b[38;5;66;03m# Check the reconstructed maggies against the original\u001b[39;00m\n\u001b[0;32m     20\u001b[0m rmaggies \u001b[38;5;241m=\u001b[39m kc\u001b[38;5;241m.\u001b[39mreconstruct(redshift\u001b[38;5;241m=\u001b[39mredshift, coeffs\u001b[38;5;241m=\u001b[39mcoeffs)\n",
      "File \u001b[1;32md:\\Software\\miniforge3\\envs\\kcorrect\\lib\\site-packages\\kcorrect\\fitter.py:413\u001b[0m, in \u001b[0;36mFitter.fit_coeffs\u001b[1;34m(self, redshift, maggies, ivar, mc)\u001b[0m\n\u001b[0;32m    411\u001b[0m \u001b[38;5;28;01mif\u001b[39;00m(n \u001b[38;5;241m==\u001b[39m \u001b[38;5;241m1\u001b[39m):\n\u001b[0;32m    412\u001b[0m     \u001b[38;5;28;01mif\u001b[39;00m(mc \u001b[38;5;241m==\u001b[39m \u001b[38;5;241m0\u001b[39m):\n\u001b[1;32m--> 413\u001b[0m         coeffs \u001b[38;5;241m=\u001b[39m \u001b[38;5;28;43mself\u001b[39;49m\u001b[38;5;241;43m.\u001b[39;49m\u001b[43m_fit_coeffs\u001b[49m\u001b[43m(\u001b[49m\u001b[43mredshift\u001b[49m\u001b[38;5;241;43m=\u001b[39;49m\u001b[43mnp\u001b[49m\u001b[38;5;241;43m.\u001b[39;49m\u001b[43msqueeze\u001b[49m\u001b[43m(\u001b[49m\u001b[43mredshift\u001b[49m\u001b[43m)\u001b[49m\u001b[43m,\u001b[49m\n\u001b[0;32m    414\u001b[0m \u001b[43m                                  \u001b[49m\u001b[43mmaggies\u001b[49m\u001b[38;5;241;43m=\u001b[39;49m\u001b[43mnp\u001b[49m\u001b[38;5;241;43m.\u001b[39;49m\u001b[43msqueeze\u001b[49m\u001b[43m(\u001b[49m\u001b[43mmaggies\u001b[49m\u001b[43m)\u001b[49m\u001b[43m,\u001b[49m\n\u001b[0;32m    415\u001b[0m \u001b[43m                                  \u001b[49m\u001b[43mivar\u001b[49m\u001b[38;5;241;43m=\u001b[39;49m\u001b[43mnp\u001b[49m\u001b[38;5;241;43m.\u001b[39;49m\u001b[43msqueeze\u001b[49m\u001b[43m(\u001b[49m\u001b[43mivar\u001b[49m\u001b[43m)\u001b[49m\u001b[43m,\u001b[49m\n\u001b[0;32m    416\u001b[0m \u001b[43m                                  \u001b[49m\u001b[43mmc\u001b[49m\u001b[38;5;241;43m=\u001b[39;49m\u001b[43mmc\u001b[49m\u001b[43m)\u001b[49m\n\u001b[0;32m    417\u001b[0m     \u001b[38;5;28;01melse\u001b[39;00m:\n\u001b[0;32m    418\u001b[0m         coeffs, coeffs_mc, maggies_mc \u001b[38;5;241m=\u001b[39m \u001b[38;5;28mself\u001b[39m\u001b[38;5;241m.\u001b[39m_fit_coeffs(redshift\u001b[38;5;241m=\u001b[39mnp\u001b[38;5;241m.\u001b[39msqueeze(redshift),\n\u001b[0;32m    419\u001b[0m                                                          maggies\u001b[38;5;241m=\u001b[39mnp\u001b[38;5;241m.\u001b[39msqueeze(maggies),\n\u001b[0;32m    420\u001b[0m                                                          ivar\u001b[38;5;241m=\u001b[39mnp\u001b[38;5;241m.\u001b[39msqueeze(ivar),\n\u001b[0;32m    421\u001b[0m                                                          mc\u001b[38;5;241m=\u001b[39mmc)\n",
      "File \u001b[1;32md:\\Software\\miniforge3\\envs\\kcorrect\\lib\\site-packages\\kcorrect\\fitter.py:209\u001b[0m, in \u001b[0;36mFitter._fit_coeffs\u001b[1;34m(self, redshift, maggies, ivar, mc)\u001b[0m\n\u001b[0;32m    206\u001b[0m b \u001b[38;5;241m=\u001b[39m maggies \u001b[38;5;241m*\u001b[39m inverr\n\u001b[0;32m    208\u001b[0m \u001b[38;5;28;01mtry\u001b[39;00m:\n\u001b[1;32m--> 209\u001b[0m     coeffs, rnorm \u001b[38;5;241m=\u001b[39m \u001b[43moptimize\u001b[49m\u001b[38;5;241;43m.\u001b[39;49m\u001b[43mnnls\u001b[49m\u001b[43m(\u001b[49m\u001b[43mnp\u001b[49m\u001b[38;5;241;43m.\u001b[39;49m\u001b[43mfloat64\u001b[49m\u001b[43m(\u001b[49m\u001b[43mA\u001b[49m\u001b[43m)\u001b[49m\u001b[43m,\u001b[49m\u001b[43m \u001b[49m\u001b[43mnp\u001b[49m\u001b[38;5;241;43m.\u001b[39;49m\u001b[43mfloat64\u001b[49m\u001b[43m(\u001b[49m\u001b[43mb\u001b[49m\u001b[43m)\u001b[49m\u001b[43m)\u001b[49m\n\u001b[0;32m    210\u001b[0m \u001b[38;5;28;01mexcept\u001b[39;00m \u001b[38;5;167;01mRuntimeError\u001b[39;00m:\n\u001b[0;32m    211\u001b[0m     coeffs, rnorm \u001b[38;5;241m=\u001b[39m optimize\u001b[38;5;241m.\u001b[39mnnls(np\u001b[38;5;241m.\u001b[39mfloat64(A), np\u001b[38;5;241m.\u001b[39mfloat64(b),\n\u001b[0;32m    212\u001b[0m                                   maxiter\u001b[38;5;241m=\u001b[39mA\u001b[38;5;241m.\u001b[39mshape[\u001b[38;5;241m1\u001b[39m] \u001b[38;5;241m*\u001b[39m \u001b[38;5;241m100\u001b[39m)\n",
      "File \u001b[1;32md:\\Software\\miniforge3\\envs\\kcorrect\\lib\\site-packages\\scipy\\optimize\\_nnls.py:91\u001b[0m, in \u001b[0;36mnnls\u001b[1;34m(A, b, maxiter, atol)\u001b[0m\n\u001b[0;32m     86\u001b[0m \u001b[38;5;28;01mif\u001b[39;00m m \u001b[38;5;241m!=\u001b[39m b\u001b[38;5;241m.\u001b[39mshape[\u001b[38;5;241m0\u001b[39m]:\n\u001b[0;32m     87\u001b[0m     \u001b[38;5;28;01mraise\u001b[39;00m \u001b[38;5;167;01mValueError\u001b[39;00m(\n\u001b[0;32m     88\u001b[0m             \u001b[38;5;124m\"\u001b[39m\u001b[38;5;124mIncompatible dimensions. The first dimension of \u001b[39m\u001b[38;5;124m\"\u001b[39m \u001b[38;5;241m+\u001b[39m\n\u001b[0;32m     89\u001b[0m             \u001b[38;5;124mf\u001b[39m\u001b[38;5;124m\"\u001b[39m\u001b[38;5;124mA is \u001b[39m\u001b[38;5;132;01m{\u001b[39;00mm\u001b[38;5;132;01m}\u001b[39;00m\u001b[38;5;124m, while the shape of b is \u001b[39m\u001b[38;5;132;01m{\u001b[39;00m(b\u001b[38;5;241m.\u001b[39mshape[\u001b[38;5;241m0\u001b[39m],\u001b[38;5;250m \u001b[39m)\u001b[38;5;132;01m}\u001b[39;00m\u001b[38;5;124m\"\u001b[39m)\n\u001b[1;32m---> 91\u001b[0m x, rnorm, mode \u001b[38;5;241m=\u001b[39m \u001b[43m_nnls\u001b[49m\u001b[43m(\u001b[49m\u001b[43mA\u001b[49m\u001b[43m,\u001b[49m\u001b[43m \u001b[49m\u001b[43mb\u001b[49m\u001b[43m,\u001b[49m\u001b[43m \u001b[49m\u001b[43mmaxiter\u001b[49m\u001b[43m,\u001b[49m\u001b[43m \u001b[49m\u001b[43mtol\u001b[49m\u001b[38;5;241;43m=\u001b[39;49m\u001b[43matol\u001b[49m\u001b[43m)\u001b[49m\n\u001b[0;32m     92\u001b[0m \u001b[38;5;28;01mif\u001b[39;00m mode \u001b[38;5;241m!=\u001b[39m \u001b[38;5;241m1\u001b[39m:\n\u001b[0;32m     93\u001b[0m     \u001b[38;5;28;01mraise\u001b[39;00m \u001b[38;5;167;01mRuntimeError\u001b[39;00m(\u001b[38;5;124m\"\u001b[39m\u001b[38;5;124mMaximum number of iterations reached.\u001b[39m\u001b[38;5;124m\"\u001b[39m)\n",
      "File \u001b[1;32md:\\Software\\miniforge3\\envs\\kcorrect\\lib\\site-packages\\scipy\\optimize\\_nnls.py:155\u001b[0m, in \u001b[0;36m_nnls\u001b[1;34m(A, b, maxiter, tol)\u001b[0m\n\u001b[0;32m    152\u001b[0m     s[\u001b[38;5;241m~\u001b[39mP] \u001b[38;5;241m=\u001b[39m \u001b[38;5;241m0\u001b[39m  \u001b[38;5;66;03m# C.6\u001b[39;00m\n\u001b[0;32m    154\u001b[0m x[:] \u001b[38;5;241m=\u001b[39m s[:]\n\u001b[1;32m--> 155\u001b[0m w[:] \u001b[38;5;241m=\u001b[39m Atb \u001b[38;5;241m-\u001b[39m \u001b[43mAtA\u001b[49m\u001b[43m \u001b[49m\u001b[38;5;241;43m@\u001b[39;49m\u001b[43m \u001b[49m\u001b[43mx\u001b[49m\n\u001b[0;32m    157\u001b[0m \u001b[38;5;28;01mif\u001b[39;00m \u001b[38;5;28miter\u001b[39m \u001b[38;5;241m==\u001b[39m maxiter:\n\u001b[0;32m    158\u001b[0m     \u001b[38;5;66;03m# Typically following line should return\u001b[39;00m\n\u001b[0;32m    159\u001b[0m     \u001b[38;5;66;03m# return x, np.linalg.norm(A@x - b), -1\u001b[39;00m\n\u001b[0;32m    160\u001b[0m     \u001b[38;5;66;03m# however at the top level, -1 raises an exception wasting norm\u001b[39;00m\n\u001b[0;32m    161\u001b[0m     \u001b[38;5;66;03m# Instead return dummy number 0.\u001b[39;00m\n\u001b[0;32m    162\u001b[0m     \u001b[38;5;28;01mreturn\u001b[39;00m x, \u001b[38;5;241m0.\u001b[39m, \u001b[38;5;241m-\u001b[39m\u001b[38;5;241m1\u001b[39m\n",
      "\u001b[1;31mKeyboardInterrupt\u001b[0m: "
     ]
    }
   ],
   "source": [
    "import kcorrect.kcorrect\n",
    "\n",
    "redshift = 0.030317\n",
    "\n",
    "maggies = [5.8345693e-09, 2.3105990e-08,\n",
    "           1.9847762e-06, 4.2561787e-06, 5.6498902e-06, 4.2561787e-06, 5.6498902e-06,\n",
    "           5.0805811e-06, 2.7973852e-06, 1.9943982e-06, 1.2780572e-06]\n",
    "\n",
    "ivar = [1.11281764e+18, 1.61874720e+18,\n",
    "        2.82055401e+14, 6.13363357e+13, 3.48078746e+13, 6.13363357e+13, 3.48078746e+13,\n",
    "        4.30457938e+13, 1.41988431e+14, 1.22633740e+14, 4.96459265e+12]\n",
    "\n",
    "kc = kcorrect.kcorrect.Kcorrect(filename='data/kcorrect_broad_0115.fits')\n",
    "\n",
    "# For this case, coeffs is large! [1, 57636]\n",
    "# If you look carefully at this case, only 6 of the coefficients are non-zero!\n",
    "coeffs = kc.fit_coeffs(redshift=redshift, maggies=maggies, ivar=ivar)\n",
    "\n",
    "# Check the reconstructed maggies against the original\n",
    "rmaggies = kc.reconstruct(redshift=redshift, coeffs=coeffs)\n",
    "\n",
    "# We can then calculate the absolute magnitudes as usual\n",
    "absmag = kc.absmag(redshift=redshift, maggies=maggies, ivar=ivar, coeffs=coeffs)"
   ]
  },
  {
   "cell_type": "code",
   "execution_count": 2,
   "id": "bd3cb323",
   "metadata": {},
   "outputs": [],
   "source": [
    "# responses = ['galex_FUV', 'galex_NUV',\n",
    "#              'decam_g', 'decam_r', 'decam_z',\n",
    "#              'wise_w1', 'wise_w2', 'wise_w3', 'wise_w4']\n",
    "\n",
    "# templates = kcorrect.template.Template(filename='data/templates_broad.fits')\n",
    "\n",
    "# kc = kcorrect.kcorrect.Kcorrect(responses=responses,\n",
    "#                                 templates=templates,\n",
    "#                                 redshift_range=[0.03, 0.031],\n",
    "#                                 nredshift=2)\n",
    "\n",
    "# kc.tofits('data/kcorrect_broad_test.fits')"
   ]
  }
 ],
 "metadata": {
  "kernelspec": {
   "display_name": "kcorrect",
   "language": "python",
   "name": "python3"
  },
  "language_info": {
   "codemirror_mode": {
    "name": "ipython",
    "version": 3
   },
   "file_extension": ".py",
   "mimetype": "text/x-python",
   "name": "python",
   "nbconvert_exporter": "python",
   "pygments_lexer": "ipython3",
   "version": "3.9.23"
  }
 },
 "nbformat": 4,
 "nbformat_minor": 5
}
